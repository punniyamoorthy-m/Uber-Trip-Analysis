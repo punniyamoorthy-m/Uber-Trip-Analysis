{
 "cells": [
  {
   "cell_type": "markdown",
   "id": "f3eabeea",
   "metadata": {},
   "source": [
    "## EDA For Uber Trip Analysis"
   ]
  },
  {
   "cell_type": "code",
   "execution_count": 2,
   "id": "a0fa0c5b-454c-4d82-bfab-3826f2510f44",
   "metadata": {},
   "outputs": [],
   "source": [
    "# import libraries\n",
    "import pandas as pd\n",
    "import numpy as np\n",
    "import matplotlib.pyplot as plt\n",
    "import seaborn as sns"
   ]
  },
  {
   "cell_type": "code",
   "execution_count": 3,
   "id": "dae94eea-6042-4561-bffe-f5e55084b6ac",
   "metadata": {},
   "outputs": [
    {
     "data": {
      "text/html": [
       "<div>\n",
       "<style scoped>\n",
       "    .dataframe tbody tr th:only-of-type {\n",
       "        vertical-align: middle;\n",
       "    }\n",
       "\n",
       "    .dataframe tbody tr th {\n",
       "        vertical-align: top;\n",
       "    }\n",
       "\n",
       "    .dataframe thead th {\n",
       "        text-align: right;\n",
       "    }\n",
       "</style>\n",
       "<table border=\"1\" class=\"dataframe\">\n",
       "  <thead>\n",
       "    <tr style=\"text-align: right;\">\n",
       "      <th></th>\n",
       "      <th>Trip ID</th>\n",
       "      <th>Pickup Time</th>\n",
       "      <th>Drop Off Time</th>\n",
       "      <th>passenger_count</th>\n",
       "      <th>trip_distance</th>\n",
       "      <th>PULocationID</th>\n",
       "      <th>DOLocationID</th>\n",
       "      <th>fare_amount</th>\n",
       "      <th>Surge Fee</th>\n",
       "      <th>Vehicle</th>\n",
       "      <th>Payment_type</th>\n",
       "    </tr>\n",
       "  </thead>\n",
       "  <tbody>\n",
       "    <tr>\n",
       "      <th>0</th>\n",
       "      <td>1</td>\n",
       "      <td>2024-06-01 00:42:50</td>\n",
       "      <td>2024-06-01 01:04:33</td>\n",
       "      <td>1</td>\n",
       "      <td>5.60</td>\n",
       "      <td>79</td>\n",
       "      <td>226</td>\n",
       "      <td>19.5</td>\n",
       "      <td>2.0</td>\n",
       "      <td>UberX</td>\n",
       "      <td>Uber Pay</td>\n",
       "    </tr>\n",
       "    <tr>\n",
       "      <th>1</th>\n",
       "      <td>2</td>\n",
       "      <td>2024-06-01 00:06:29</td>\n",
       "      <td>2024-06-01 00:13:22</td>\n",
       "      <td>1</td>\n",
       "      <td>1.72</td>\n",
       "      <td>142</td>\n",
       "      <td>186</td>\n",
       "      <td>8.0</td>\n",
       "      <td>0.0</td>\n",
       "      <td>Uber Black</td>\n",
       "      <td>Cash</td>\n",
       "    </tr>\n",
       "    <tr>\n",
       "      <th>2</th>\n",
       "      <td>3</td>\n",
       "      <td>2024-06-01 00:08:05</td>\n",
       "      <td>2024-06-01 00:21:33</td>\n",
       "      <td>1</td>\n",
       "      <td>3.41</td>\n",
       "      <td>229</td>\n",
       "      <td>238</td>\n",
       "      <td>13.0</td>\n",
       "      <td>0.0</td>\n",
       "      <td>Uber Black</td>\n",
       "      <td>Cash</td>\n",
       "    </tr>\n",
       "    <tr>\n",
       "      <th>3</th>\n",
       "      <td>4</td>\n",
       "      <td>2024-06-01 00:28:20</td>\n",
       "      <td>2024-06-01 00:37:46</td>\n",
       "      <td>1</td>\n",
       "      <td>1.81</td>\n",
       "      <td>188</td>\n",
       "      <td>35</td>\n",
       "      <td>9.0</td>\n",
       "      <td>0.0</td>\n",
       "      <td>UberX</td>\n",
       "      <td>Cash</td>\n",
       "    </tr>\n",
       "    <tr>\n",
       "      <th>4</th>\n",
       "      <td>5</td>\n",
       "      <td>2024-06-01 00:38:05</td>\n",
       "      <td>2024-06-01 00:45:05</td>\n",
       "      <td>1</td>\n",
       "      <td>1.89</td>\n",
       "      <td>100</td>\n",
       "      <td>137</td>\n",
       "      <td>8.0</td>\n",
       "      <td>0.0</td>\n",
       "      <td>Uber Black</td>\n",
       "      <td>Cash</td>\n",
       "    </tr>\n",
       "  </tbody>\n",
       "</table>\n",
       "</div>"
      ],
      "text/plain": [
       "   Trip ID         Pickup Time       Drop Off Time  passenger_count  \\\n",
       "0        1 2024-06-01 00:42:50 2024-06-01 01:04:33                1   \n",
       "1        2 2024-06-01 00:06:29 2024-06-01 00:13:22                1   \n",
       "2        3 2024-06-01 00:08:05 2024-06-01 00:21:33                1   \n",
       "3        4 2024-06-01 00:28:20 2024-06-01 00:37:46                1   \n",
       "4        5 2024-06-01 00:38:05 2024-06-01 00:45:05                1   \n",
       "\n",
       "   trip_distance  PULocationID  DOLocationID  fare_amount  Surge Fee  \\\n",
       "0           5.60            79           226         19.5        2.0   \n",
       "1           1.72           142           186          8.0        0.0   \n",
       "2           3.41           229           238         13.0        0.0   \n",
       "3           1.81           188            35          9.0        0.0   \n",
       "4           1.89           100           137          8.0        0.0   \n",
       "\n",
       "      Vehicle Payment_type  \n",
       "0       UberX     Uber Pay  \n",
       "1  Uber Black         Cash  \n",
       "2  Uber Black         Cash  \n",
       "3       UberX         Cash  \n",
       "4  Uber Black         Cash  "
      ]
     },
     "execution_count": 3,
     "metadata": {},
     "output_type": "execute_result"
    }
   ],
   "source": [
    "# load Trip Details datasets\n",
    "df=pd.read_excel('Uber Trip Details.xlsx')\n",
    "df.head()"
   ]
  },
  {
   "cell_type": "code",
   "execution_count": 4,
   "id": "4eafc444-4e87-4cb3-960d-b5937d8178b1",
   "metadata": {},
   "outputs": [
    {
     "data": {
      "text/html": [
       "<div>\n",
       "<style scoped>\n",
       "    .dataframe tbody tr th:only-of-type {\n",
       "        vertical-align: middle;\n",
       "    }\n",
       "\n",
       "    .dataframe tbody tr th {\n",
       "        vertical-align: top;\n",
       "    }\n",
       "\n",
       "    .dataframe thead th {\n",
       "        text-align: right;\n",
       "    }\n",
       "</style>\n",
       "<table border=\"1\" class=\"dataframe\">\n",
       "  <thead>\n",
       "    <tr style=\"text-align: right;\">\n",
       "      <th></th>\n",
       "      <th>Pickup Time</th>\n",
       "      <th>Drop Off Time</th>\n",
       "      <th>passenger_count</th>\n",
       "      <th>trip_distance</th>\n",
       "      <th>PULocationID</th>\n",
       "      <th>DOLocationID</th>\n",
       "      <th>fare_amount</th>\n",
       "      <th>Surge Fee</th>\n",
       "      <th>Vehicle</th>\n",
       "      <th>Payment_type</th>\n",
       "    </tr>\n",
       "    <tr>\n",
       "      <th>Trip ID</th>\n",
       "      <th></th>\n",
       "      <th></th>\n",
       "      <th></th>\n",
       "      <th></th>\n",
       "      <th></th>\n",
       "      <th></th>\n",
       "      <th></th>\n",
       "      <th></th>\n",
       "      <th></th>\n",
       "      <th></th>\n",
       "    </tr>\n",
       "  </thead>\n",
       "  <tbody>\n",
       "    <tr>\n",
       "      <th>1</th>\n",
       "      <td>2024-06-01 00:42:50</td>\n",
       "      <td>2024-06-01 01:04:33</td>\n",
       "      <td>1</td>\n",
       "      <td>5.60</td>\n",
       "      <td>79</td>\n",
       "      <td>226</td>\n",
       "      <td>19.5</td>\n",
       "      <td>2.0</td>\n",
       "      <td>UberX</td>\n",
       "      <td>Uber Pay</td>\n",
       "    </tr>\n",
       "    <tr>\n",
       "      <th>2</th>\n",
       "      <td>2024-06-01 00:06:29</td>\n",
       "      <td>2024-06-01 00:13:22</td>\n",
       "      <td>1</td>\n",
       "      <td>1.72</td>\n",
       "      <td>142</td>\n",
       "      <td>186</td>\n",
       "      <td>8.0</td>\n",
       "      <td>0.0</td>\n",
       "      <td>Uber Black</td>\n",
       "      <td>Cash</td>\n",
       "    </tr>\n",
       "    <tr>\n",
       "      <th>3</th>\n",
       "      <td>2024-06-01 00:08:05</td>\n",
       "      <td>2024-06-01 00:21:33</td>\n",
       "      <td>1</td>\n",
       "      <td>3.41</td>\n",
       "      <td>229</td>\n",
       "      <td>238</td>\n",
       "      <td>13.0</td>\n",
       "      <td>0.0</td>\n",
       "      <td>Uber Black</td>\n",
       "      <td>Cash</td>\n",
       "    </tr>\n",
       "    <tr>\n",
       "      <th>4</th>\n",
       "      <td>2024-06-01 00:28:20</td>\n",
       "      <td>2024-06-01 00:37:46</td>\n",
       "      <td>1</td>\n",
       "      <td>1.81</td>\n",
       "      <td>188</td>\n",
       "      <td>35</td>\n",
       "      <td>9.0</td>\n",
       "      <td>0.0</td>\n",
       "      <td>UberX</td>\n",
       "      <td>Cash</td>\n",
       "    </tr>\n",
       "    <tr>\n",
       "      <th>5</th>\n",
       "      <td>2024-06-01 00:38:05</td>\n",
       "      <td>2024-06-01 00:45:05</td>\n",
       "      <td>1</td>\n",
       "      <td>1.89</td>\n",
       "      <td>100</td>\n",
       "      <td>137</td>\n",
       "      <td>8.0</td>\n",
       "      <td>0.0</td>\n",
       "      <td>Uber Black</td>\n",
       "      <td>Cash</td>\n",
       "    </tr>\n",
       "    <tr>\n",
       "      <th>...</th>\n",
       "      <td>...</td>\n",
       "      <td>...</td>\n",
       "      <td>...</td>\n",
       "      <td>...</td>\n",
       "      <td>...</td>\n",
       "      <td>...</td>\n",
       "      <td>...</td>\n",
       "      <td>...</td>\n",
       "      <td>...</td>\n",
       "      <td>...</td>\n",
       "    </tr>\n",
       "    <tr>\n",
       "      <th>116918</th>\n",
       "      <td>2024-06-30 23:17:26</td>\n",
       "      <td>2024-06-30 23:35:00</td>\n",
       "      <td>1</td>\n",
       "      <td>9.40</td>\n",
       "      <td>138</td>\n",
       "      <td>243</td>\n",
       "      <td>27.0</td>\n",
       "      <td>0.0</td>\n",
       "      <td>Uber Black</td>\n",
       "      <td>Uber Pay</td>\n",
       "    </tr>\n",
       "    <tr>\n",
       "      <th>116919</th>\n",
       "      <td>2024-06-30 23:08:12</td>\n",
       "      <td>2024-06-30 23:14:02</td>\n",
       "      <td>1</td>\n",
       "      <td>2.00</td>\n",
       "      <td>185</td>\n",
       "      <td>32</td>\n",
       "      <td>7.5</td>\n",
       "      <td>0.0</td>\n",
       "      <td>Uber Green</td>\n",
       "      <td>Cash</td>\n",
       "    </tr>\n",
       "    <tr>\n",
       "      <th>116920</th>\n",
       "      <td>2024-06-30 23:38:39</td>\n",
       "      <td>2024-06-30 23:42:56</td>\n",
       "      <td>1</td>\n",
       "      <td>1.30</td>\n",
       "      <td>162</td>\n",
       "      <td>237</td>\n",
       "      <td>6.0</td>\n",
       "      <td>2.9</td>\n",
       "      <td>UberX</td>\n",
       "      <td>Uber Pay</td>\n",
       "    </tr>\n",
       "    <tr>\n",
       "      <th>116923</th>\n",
       "      <td>2024-06-30 23:57:00</td>\n",
       "      <td>2024-07-01 00:05:46</td>\n",
       "      <td>1</td>\n",
       "      <td>2.50</td>\n",
       "      <td>142</td>\n",
       "      <td>233</td>\n",
       "      <td>10.0</td>\n",
       "      <td>0.0</td>\n",
       "      <td>Uber Green</td>\n",
       "      <td>Cash</td>\n",
       "    </tr>\n",
       "    <tr>\n",
       "      <th>116924</th>\n",
       "      <td>2024-06-30 23:08:13</td>\n",
       "      <td>2024-06-30 23:19:19</td>\n",
       "      <td>1</td>\n",
       "      <td>6.91</td>\n",
       "      <td>70</td>\n",
       "      <td>42</td>\n",
       "      <td>19.5</td>\n",
       "      <td>0.0</td>\n",
       "      <td>Uber Black</td>\n",
       "      <td>Uber Pay</td>\n",
       "    </tr>\n",
       "  </tbody>\n",
       "</table>\n",
       "<p>103728 rows × 10 columns</p>\n",
       "</div>"
      ],
      "text/plain": [
       "                Pickup Time       Drop Off Time  passenger_count  \\\n",
       "Trip ID                                                            \n",
       "1       2024-06-01 00:42:50 2024-06-01 01:04:33                1   \n",
       "2       2024-06-01 00:06:29 2024-06-01 00:13:22                1   \n",
       "3       2024-06-01 00:08:05 2024-06-01 00:21:33                1   \n",
       "4       2024-06-01 00:28:20 2024-06-01 00:37:46                1   \n",
       "5       2024-06-01 00:38:05 2024-06-01 00:45:05                1   \n",
       "...                     ...                 ...              ...   \n",
       "116918  2024-06-30 23:17:26 2024-06-30 23:35:00                1   \n",
       "116919  2024-06-30 23:08:12 2024-06-30 23:14:02                1   \n",
       "116920  2024-06-30 23:38:39 2024-06-30 23:42:56                1   \n",
       "116923  2024-06-30 23:57:00 2024-07-01 00:05:46                1   \n",
       "116924  2024-06-30 23:08:13 2024-06-30 23:19:19                1   \n",
       "\n",
       "         trip_distance  PULocationID  DOLocationID  fare_amount  Surge Fee  \\\n",
       "Trip ID                                                                      \n",
       "1                 5.60            79           226         19.5        2.0   \n",
       "2                 1.72           142           186          8.0        0.0   \n",
       "3                 3.41           229           238         13.0        0.0   \n",
       "4                 1.81           188            35          9.0        0.0   \n",
       "5                 1.89           100           137          8.0        0.0   \n",
       "...                ...           ...           ...          ...        ...   \n",
       "116918            9.40           138           243         27.0        0.0   \n",
       "116919            2.00           185            32          7.5        0.0   \n",
       "116920            1.30           162           237          6.0        2.9   \n",
       "116923            2.50           142           233         10.0        0.0   \n",
       "116924            6.91            70            42         19.5        0.0   \n",
       "\n",
       "            Vehicle Payment_type  \n",
       "Trip ID                           \n",
       "1             UberX     Uber Pay  \n",
       "2        Uber Black         Cash  \n",
       "3        Uber Black         Cash  \n",
       "4             UberX         Cash  \n",
       "5        Uber Black         Cash  \n",
       "...             ...          ...  \n",
       "116918   Uber Black     Uber Pay  \n",
       "116919   Uber Green         Cash  \n",
       "116920        UberX     Uber Pay  \n",
       "116923   Uber Green         Cash  \n",
       "116924   Uber Black     Uber Pay  \n",
       "\n",
       "[103728 rows x 10 columns]"
      ]
     },
     "execution_count": 4,
     "metadata": {},
     "output_type": "execute_result"
    }
   ],
   "source": [
    "#set trip id as index\n",
    "df.set_index('Trip ID')"
   ]
  },
  {
   "cell_type": "code",
   "execution_count": 5,
   "id": "02e380cc-c0f0-48e6-9b46-46a0bc6d7db9",
   "metadata": {},
   "outputs": [
    {
     "data": {
      "text/plain": [
       "(103728, 11)"
      ]
     },
     "execution_count": 5,
     "metadata": {},
     "output_type": "execute_result"
    }
   ],
   "source": [
    "# check a shape of datasets\n",
    "df.shape"
   ]
  },
  {
   "cell_type": "code",
   "execution_count": 6,
   "id": "73d51081",
   "metadata": {},
   "outputs": [
    {
     "data": {
      "text/plain": [
       "Trip ID                     int64\n",
       "Pickup Time        datetime64[ns]\n",
       "Drop Off Time      datetime64[ns]\n",
       "passenger_count             int64\n",
       "trip_distance             float64\n",
       "PULocationID                int64\n",
       "DOLocationID                int64\n",
       "fare_amount               float64\n",
       "Surge Fee                 float64\n",
       "Vehicle                    object\n",
       "Payment_type               object\n",
       "dtype: object"
      ]
     },
     "execution_count": 6,
     "metadata": {},
     "output_type": "execute_result"
    }
   ],
   "source": [
    "df.dtypes"
   ]
  },
  {
   "cell_type": "code",
   "execution_count": null,
   "id": "ce327815",
   "metadata": {},
   "outputs": [],
   "source": []
  },
  {
   "cell_type": "code",
   "execution_count": 7,
   "id": "268b128f",
   "metadata": {},
   "outputs": [
    {
     "name": "stdout",
     "output_type": "stream",
     "text": [
      "<class 'pandas.core.frame.DataFrame'>\n",
      "RangeIndex: 103728 entries, 0 to 103727\n",
      "Data columns (total 11 columns):\n",
      " #   Column           Non-Null Count   Dtype         \n",
      "---  ------           --------------   -----         \n",
      " 0   Trip ID          103728 non-null  int64         \n",
      " 1   Pickup Time      103728 non-null  datetime64[ns]\n",
      " 2   Drop Off Time    103728 non-null  datetime64[ns]\n",
      " 3   passenger_count  103728 non-null  int64         \n",
      " 4   trip_distance    103728 non-null  float64       \n",
      " 5   PULocationID     103728 non-null  int64         \n",
      " 6   DOLocationID     103728 non-null  int64         \n",
      " 7   fare_amount      103728 non-null  float64       \n",
      " 8   Surge Fee        103728 non-null  float64       \n",
      " 9   Vehicle          103728 non-null  object        \n",
      " 10  Payment_type     103728 non-null  object        \n",
      "dtypes: datetime64[ns](2), float64(3), int64(4), object(2)\n",
      "memory usage: 8.7+ MB\n"
     ]
    }
   ],
   "source": [
    "df.info()"
   ]
  },
  {
   "cell_type": "code",
   "execution_count": 8,
   "id": "19d6a75c",
   "metadata": {},
   "outputs": [
    {
     "data": {
      "text/html": [
       "<div>\n",
       "<style scoped>\n",
       "    .dataframe tbody tr th:only-of-type {\n",
       "        vertical-align: middle;\n",
       "    }\n",
       "\n",
       "    .dataframe tbody tr th {\n",
       "        vertical-align: top;\n",
       "    }\n",
       "\n",
       "    .dataframe thead th {\n",
       "        text-align: right;\n",
       "    }\n",
       "</style>\n",
       "<table border=\"1\" class=\"dataframe\">\n",
       "  <thead>\n",
       "    <tr style=\"text-align: right;\">\n",
       "      <th></th>\n",
       "      <th>Trip ID</th>\n",
       "      <th>Pickup Time</th>\n",
       "      <th>Drop Off Time</th>\n",
       "      <th>passenger_count</th>\n",
       "      <th>trip_distance</th>\n",
       "      <th>PULocationID</th>\n",
       "      <th>DOLocationID</th>\n",
       "      <th>fare_amount</th>\n",
       "      <th>Surge Fee</th>\n",
       "    </tr>\n",
       "  </thead>\n",
       "  <tbody>\n",
       "    <tr>\n",
       "      <th>count</th>\n",
       "      <td>103728.000000</td>\n",
       "      <td>103728</td>\n",
       "      <td>103728</td>\n",
       "      <td>103728.000000</td>\n",
       "      <td>103728.000000</td>\n",
       "      <td>103728.000000</td>\n",
       "      <td>103728.000000</td>\n",
       "      <td>103728.000000</td>\n",
       "      <td>103728.000000</td>\n",
       "    </tr>\n",
       "    <tr>\n",
       "      <th>mean</th>\n",
       "      <td>57422.229196</td>\n",
       "      <td>2024-06-17 08:18:36.747937024</td>\n",
       "      <td>2024-06-17 08:34:28.532392448</td>\n",
       "      <td>1.412136</td>\n",
       "      <td>3.363931</td>\n",
       "      <td>159.241410</td>\n",
       "      <td>153.537907</td>\n",
       "      <td>12.998337</td>\n",
       "      <td>1.979999</td>\n",
       "    </tr>\n",
       "    <tr>\n",
       "      <th>min</th>\n",
       "      <td>1.000000</td>\n",
       "      <td>2024-06-01 00:00:31</td>\n",
       "      <td>2024-06-01 00:10:13</td>\n",
       "      <td>1.000000</td>\n",
       "      <td>1.010000</td>\n",
       "      <td>1.000000</td>\n",
       "      <td>1.000000</td>\n",
       "      <td>2.500000</td>\n",
       "      <td>0.000000</td>\n",
       "    </tr>\n",
       "    <tr>\n",
       "      <th>25%</th>\n",
       "      <td>27899.750000</td>\n",
       "      <td>2024-06-10 07:09:54.500000</td>\n",
       "      <td>2024-06-10 07:22:03.750000128</td>\n",
       "      <td>1.000000</td>\n",
       "      <td>1.530000</td>\n",
       "      <td>107.000000</td>\n",
       "      <td>87.000000</td>\n",
       "      <td>7.500000</td>\n",
       "      <td>0.000000</td>\n",
       "    </tr>\n",
       "    <tr>\n",
       "      <th>50%</th>\n",
       "      <td>56618.500000</td>\n",
       "      <td>2024-06-17 19:37:47</td>\n",
       "      <td>2024-06-17 19:50:19</td>\n",
       "      <td>1.000000</td>\n",
       "      <td>2.280000</td>\n",
       "      <td>151.000000</td>\n",
       "      <td>151.000000</td>\n",
       "      <td>10.000000</td>\n",
       "      <td>1.960000</td>\n",
       "    </tr>\n",
       "    <tr>\n",
       "      <th>75%</th>\n",
       "      <td>86859.250000</td>\n",
       "      <td>2024-06-24 18:45:58.249999872</td>\n",
       "      <td>2024-06-24 18:58:14.750000128</td>\n",
       "      <td>1.000000</td>\n",
       "      <td>3.800000</td>\n",
       "      <td>234.000000</td>\n",
       "      <td>233.000000</td>\n",
       "      <td>14.500000</td>\n",
       "      <td>3.000000</td>\n",
       "    </tr>\n",
       "    <tr>\n",
       "      <th>max</th>\n",
       "      <td>116924.000000</td>\n",
       "      <td>2024-06-30 23:58:51</td>\n",
       "      <td>2024-07-01 17:21:02</td>\n",
       "      <td>6.000000</td>\n",
       "      <td>144.100000</td>\n",
       "      <td>265.000000</td>\n",
       "      <td>265.000000</td>\n",
       "      <td>563.790000</td>\n",
       "      <td>117.930000</td>\n",
       "    </tr>\n",
       "    <tr>\n",
       "      <th>std</th>\n",
       "      <td>33812.530174</td>\n",
       "      <td>NaN</td>\n",
       "      <td>NaN</td>\n",
       "      <td>1.031418</td>\n",
       "      <td>3.192828</td>\n",
       "      <td>68.133216</td>\n",
       "      <td>73.585841</td>\n",
       "      <td>9.078582</td>\n",
       "      <td>2.421460</td>\n",
       "    </tr>\n",
       "  </tbody>\n",
       "</table>\n",
       "</div>"
      ],
      "text/plain": [
       "             Trip ID                    Pickup Time  \\\n",
       "count  103728.000000                         103728   \n",
       "mean    57422.229196  2024-06-17 08:18:36.747937024   \n",
       "min         1.000000            2024-06-01 00:00:31   \n",
       "25%     27899.750000     2024-06-10 07:09:54.500000   \n",
       "50%     56618.500000            2024-06-17 19:37:47   \n",
       "75%     86859.250000  2024-06-24 18:45:58.249999872   \n",
       "max    116924.000000            2024-06-30 23:58:51   \n",
       "std     33812.530174                            NaN   \n",
       "\n",
       "                       Drop Off Time  passenger_count  trip_distance  \\\n",
       "count                         103728    103728.000000  103728.000000   \n",
       "mean   2024-06-17 08:34:28.532392448         1.412136       3.363931   \n",
       "min              2024-06-01 00:10:13         1.000000       1.010000   \n",
       "25%    2024-06-10 07:22:03.750000128         1.000000       1.530000   \n",
       "50%              2024-06-17 19:50:19         1.000000       2.280000   \n",
       "75%    2024-06-24 18:58:14.750000128         1.000000       3.800000   \n",
       "max              2024-07-01 17:21:02         6.000000     144.100000   \n",
       "std                              NaN         1.031418       3.192828   \n",
       "\n",
       "        PULocationID   DOLocationID    fare_amount      Surge Fee  \n",
       "count  103728.000000  103728.000000  103728.000000  103728.000000  \n",
       "mean      159.241410     153.537907      12.998337       1.979999  \n",
       "min         1.000000       1.000000       2.500000       0.000000  \n",
       "25%       107.000000      87.000000       7.500000       0.000000  \n",
       "50%       151.000000     151.000000      10.000000       1.960000  \n",
       "75%       234.000000     233.000000      14.500000       3.000000  \n",
       "max       265.000000     265.000000     563.790000     117.930000  \n",
       "std        68.133216      73.585841       9.078582       2.421460  "
      ]
     },
     "execution_count": 8,
     "metadata": {},
     "output_type": "execute_result"
    }
   ],
   "source": [
    "df.describe()"
   ]
  },
  {
   "cell_type": "code",
   "execution_count": 9,
   "id": "b80ade03",
   "metadata": {},
   "outputs": [
    {
     "data": {
      "text/plain": [
       "Trip ID            0\n",
       "Pickup Time        0\n",
       "Drop Off Time      0\n",
       "passenger_count    0\n",
       "trip_distance      0\n",
       "PULocationID       0\n",
       "DOLocationID       0\n",
       "fare_amount        0\n",
       "Surge Fee          0\n",
       "Vehicle            0\n",
       "Payment_type       0\n",
       "dtype: int64"
      ]
     },
     "execution_count": 9,
     "metadata": {},
     "output_type": "execute_result"
    }
   ],
   "source": [
    "df.isna().sum()"
   ]
  },
  {
   "cell_type": "code",
   "execution_count": 10,
   "id": "390388ed",
   "metadata": {},
   "outputs": [
    {
     "data": {
      "text/plain": [
       "Index(['Trip ID', 'Pickup Time', 'Drop Off Time', 'passenger_count',\n",
       "       'trip_distance', 'PULocationID', 'DOLocationID', 'fare_amount',\n",
       "       'Surge Fee', 'Vehicle', 'Payment_type'],\n",
       "      dtype='object')"
      ]
     },
     "execution_count": 10,
     "metadata": {},
     "output_type": "execute_result"
    }
   ],
   "source": [
    "df.columns"
   ]
  },
  {
   "cell_type": "code",
   "execution_count": 11,
   "id": "a5981d70",
   "metadata": {},
   "outputs": [
    {
     "data": {
      "text/html": [
       "<div>\n",
       "<style scoped>\n",
       "    .dataframe tbody tr th:only-of-type {\n",
       "        vertical-align: middle;\n",
       "    }\n",
       "\n",
       "    .dataframe tbody tr th {\n",
       "        vertical-align: top;\n",
       "    }\n",
       "\n",
       "    .dataframe thead th {\n",
       "        text-align: right;\n",
       "    }\n",
       "</style>\n",
       "<table border=\"1\" class=\"dataframe\">\n",
       "  <thead>\n",
       "    <tr style=\"text-align: right;\">\n",
       "      <th></th>\n",
       "      <th>LocationID</th>\n",
       "      <th>Location</th>\n",
       "      <th>City</th>\n",
       "    </tr>\n",
       "  </thead>\n",
       "  <tbody>\n",
       "    <tr>\n",
       "      <th>0</th>\n",
       "      <td>1</td>\n",
       "      <td>Newark Airport</td>\n",
       "      <td>Newark, New Jersey</td>\n",
       "    </tr>\n",
       "    <tr>\n",
       "      <th>1</th>\n",
       "      <td>2</td>\n",
       "      <td>Jamaica Bay</td>\n",
       "      <td>Queens</td>\n",
       "    </tr>\n",
       "    <tr>\n",
       "      <th>2</th>\n",
       "      <td>3</td>\n",
       "      <td>Allerton/Pelham Gardens</td>\n",
       "      <td>The Bronx</td>\n",
       "    </tr>\n",
       "    <tr>\n",
       "      <th>3</th>\n",
       "      <td>4</td>\n",
       "      <td>Alphabet City</td>\n",
       "      <td>Manhattan</td>\n",
       "    </tr>\n",
       "    <tr>\n",
       "      <th>4</th>\n",
       "      <td>5</td>\n",
       "      <td>Arden Heights</td>\n",
       "      <td>Staten Island</td>\n",
       "    </tr>\n",
       "  </tbody>\n",
       "</table>\n",
       "</div>"
      ],
      "text/plain": [
       "   LocationID                 Location                City\n",
       "0           1           Newark Airport  Newark, New Jersey\n",
       "1           2              Jamaica Bay              Queens\n",
       "2           3  Allerton/Pelham Gardens           The Bronx\n",
       "3           4            Alphabet City           Manhattan\n",
       "4           5            Arden Heights       Staten Island"
      ]
     },
     "execution_count": 11,
     "metadata": {},
     "output_type": "execute_result"
    }
   ],
   "source": [
    "location=pd.read_excel(\"Location Table.xlsx\")\n",
    "location.head()"
   ]
  },
  {
   "cell_type": "code",
   "execution_count": 12,
   "id": "8594427e",
   "metadata": {},
   "outputs": [
    {
     "data": {
      "text/html": [
       "<div>\n",
       "<style scoped>\n",
       "    .dataframe tbody tr th:only-of-type {\n",
       "        vertical-align: middle;\n",
       "    }\n",
       "\n",
       "    .dataframe tbody tr th {\n",
       "        vertical-align: top;\n",
       "    }\n",
       "\n",
       "    .dataframe thead th {\n",
       "        text-align: right;\n",
       "    }\n",
       "</style>\n",
       "<table border=\"1\" class=\"dataframe\">\n",
       "  <thead>\n",
       "    <tr style=\"text-align: right;\">\n",
       "      <th></th>\n",
       "      <th>Location</th>\n",
       "      <th>City</th>\n",
       "    </tr>\n",
       "    <tr>\n",
       "      <th>LocationID</th>\n",
       "      <th></th>\n",
       "      <th></th>\n",
       "    </tr>\n",
       "  </thead>\n",
       "  <tbody>\n",
       "    <tr>\n",
       "      <th>1</th>\n",
       "      <td>Newark Airport</td>\n",
       "      <td>Newark, New Jersey</td>\n",
       "    </tr>\n",
       "    <tr>\n",
       "      <th>2</th>\n",
       "      <td>Jamaica Bay</td>\n",
       "      <td>Queens</td>\n",
       "    </tr>\n",
       "    <tr>\n",
       "      <th>3</th>\n",
       "      <td>Allerton/Pelham Gardens</td>\n",
       "      <td>The Bronx</td>\n",
       "    </tr>\n",
       "    <tr>\n",
       "      <th>4</th>\n",
       "      <td>Alphabet City</td>\n",
       "      <td>Manhattan</td>\n",
       "    </tr>\n",
       "    <tr>\n",
       "      <th>5</th>\n",
       "      <td>Arden Heights</td>\n",
       "      <td>Staten Island</td>\n",
       "    </tr>\n",
       "    <tr>\n",
       "      <th>...</th>\n",
       "      <td>...</td>\n",
       "      <td>...</td>\n",
       "    </tr>\n",
       "    <tr>\n",
       "      <th>261</th>\n",
       "      <td>World Trade Center</td>\n",
       "      <td>Manhattan</td>\n",
       "    </tr>\n",
       "    <tr>\n",
       "      <th>262</th>\n",
       "      <td>Yorkville East</td>\n",
       "      <td>Manhattan</td>\n",
       "    </tr>\n",
       "    <tr>\n",
       "      <th>263</th>\n",
       "      <td>Yorkville West</td>\n",
       "      <td>Manhattan</td>\n",
       "    </tr>\n",
       "    <tr>\n",
       "      <th>264</th>\n",
       "      <td>NV</td>\n",
       "      <td>NaN</td>\n",
       "    </tr>\n",
       "    <tr>\n",
       "      <th>265</th>\n",
       "      <td>NaN</td>\n",
       "      <td>NaN</td>\n",
       "    </tr>\n",
       "  </tbody>\n",
       "</table>\n",
       "<p>265 rows × 2 columns</p>\n",
       "</div>"
      ],
      "text/plain": [
       "                           Location                City\n",
       "LocationID                                             \n",
       "1                    Newark Airport  Newark, New Jersey\n",
       "2                       Jamaica Bay              Queens\n",
       "3           Allerton/Pelham Gardens           The Bronx\n",
       "4                     Alphabet City           Manhattan\n",
       "5                     Arden Heights       Staten Island\n",
       "...                             ...                 ...\n",
       "261              World Trade Center           Manhattan\n",
       "262                  Yorkville East           Manhattan\n",
       "263                  Yorkville West           Manhattan\n",
       "264                              NV                 NaN\n",
       "265                             NaN                 NaN\n",
       "\n",
       "[265 rows x 2 columns]"
      ]
     },
     "execution_count": 12,
     "metadata": {},
     "output_type": "execute_result"
    }
   ],
   "source": [
    "location.set_index('LocationID')"
   ]
  },
  {
   "cell_type": "code",
   "execution_count": 13,
   "id": "ae457970",
   "metadata": {},
   "outputs": [
    {
     "data": {
      "text/plain": [
       "LocationID    0\n",
       "Location      1\n",
       "City          2\n",
       "dtype: int64"
      ]
     },
     "execution_count": 13,
     "metadata": {},
     "output_type": "execute_result"
    }
   ],
   "source": [
    "location.isna().sum()"
   ]
  },
  {
   "cell_type": "code",
   "execution_count": 14,
   "id": "fa762768",
   "metadata": {},
   "outputs": [
    {
     "data": {
      "text/html": [
       "<div>\n",
       "<style scoped>\n",
       "    .dataframe tbody tr th:only-of-type {\n",
       "        vertical-align: middle;\n",
       "    }\n",
       "\n",
       "    .dataframe tbody tr th {\n",
       "        vertical-align: top;\n",
       "    }\n",
       "\n",
       "    .dataframe thead th {\n",
       "        text-align: right;\n",
       "    }\n",
       "</style>\n",
       "<table border=\"1\" class=\"dataframe\">\n",
       "  <thead>\n",
       "    <tr style=\"text-align: right;\">\n",
       "      <th></th>\n",
       "      <th>LocationID</th>\n",
       "      <th>Location</th>\n",
       "      <th>City</th>\n",
       "    </tr>\n",
       "  </thead>\n",
       "  <tbody>\n",
       "    <tr>\n",
       "      <th>0</th>\n",
       "      <td>1</td>\n",
       "      <td>Newark Airport</td>\n",
       "      <td>Newark, New Jersey</td>\n",
       "    </tr>\n",
       "    <tr>\n",
       "      <th>1</th>\n",
       "      <td>2</td>\n",
       "      <td>Jamaica Bay</td>\n",
       "      <td>Queens</td>\n",
       "    </tr>\n",
       "    <tr>\n",
       "      <th>2</th>\n",
       "      <td>3</td>\n",
       "      <td>Allerton/Pelham Gardens</td>\n",
       "      <td>The Bronx</td>\n",
       "    </tr>\n",
       "    <tr>\n",
       "      <th>3</th>\n",
       "      <td>4</td>\n",
       "      <td>Alphabet City</td>\n",
       "      <td>Manhattan</td>\n",
       "    </tr>\n",
       "    <tr>\n",
       "      <th>4</th>\n",
       "      <td>5</td>\n",
       "      <td>Arden Heights</td>\n",
       "      <td>Staten Island</td>\n",
       "    </tr>\n",
       "    <tr>\n",
       "      <th>...</th>\n",
       "      <td>...</td>\n",
       "      <td>...</td>\n",
       "      <td>...</td>\n",
       "    </tr>\n",
       "    <tr>\n",
       "      <th>258</th>\n",
       "      <td>259</td>\n",
       "      <td>Woodlawn/Wakefield</td>\n",
       "      <td>Bronx</td>\n",
       "    </tr>\n",
       "    <tr>\n",
       "      <th>259</th>\n",
       "      <td>260</td>\n",
       "      <td>Woodside</td>\n",
       "      <td>Queens</td>\n",
       "    </tr>\n",
       "    <tr>\n",
       "      <th>260</th>\n",
       "      <td>261</td>\n",
       "      <td>World Trade Center</td>\n",
       "      <td>Manhattan</td>\n",
       "    </tr>\n",
       "    <tr>\n",
       "      <th>261</th>\n",
       "      <td>262</td>\n",
       "      <td>Yorkville East</td>\n",
       "      <td>Manhattan</td>\n",
       "    </tr>\n",
       "    <tr>\n",
       "      <th>262</th>\n",
       "      <td>263</td>\n",
       "      <td>Yorkville West</td>\n",
       "      <td>Manhattan</td>\n",
       "    </tr>\n",
       "  </tbody>\n",
       "</table>\n",
       "<p>263 rows × 3 columns</p>\n",
       "</div>"
      ],
      "text/plain": [
       "     LocationID                 Location                City\n",
       "0             1           Newark Airport  Newark, New Jersey\n",
       "1             2              Jamaica Bay              Queens\n",
       "2             3  Allerton/Pelham Gardens           The Bronx\n",
       "3             4            Alphabet City           Manhattan\n",
       "4             5            Arden Heights       Staten Island\n",
       "..          ...                      ...                 ...\n",
       "258         259       Woodlawn/Wakefield               Bronx\n",
       "259         260                 Woodside              Queens\n",
       "260         261       World Trade Center           Manhattan\n",
       "261         262           Yorkville East           Manhattan\n",
       "262         263           Yorkville West           Manhattan\n",
       "\n",
       "[263 rows x 3 columns]"
      ]
     },
     "execution_count": 14,
     "metadata": {},
     "output_type": "execute_result"
    }
   ],
   "source": [
    "location.dropna()"
   ]
  },
  {
   "cell_type": "code",
   "execution_count": 15,
   "id": "0241bd76",
   "metadata": {},
   "outputs": [
    {
     "data": {
      "text/html": [
       "<div>\n",
       "<style scoped>\n",
       "    .dataframe tbody tr th:only-of-type {\n",
       "        vertical-align: middle;\n",
       "    }\n",
       "\n",
       "    .dataframe tbody tr th {\n",
       "        vertical-align: top;\n",
       "    }\n",
       "\n",
       "    .dataframe thead th {\n",
       "        text-align: right;\n",
       "    }\n",
       "</style>\n",
       "<table border=\"1\" class=\"dataframe\">\n",
       "  <thead>\n",
       "    <tr style=\"text-align: right;\">\n",
       "      <th></th>\n",
       "      <th>Trip ID</th>\n",
       "      <th>Pickup Time</th>\n",
       "      <th>Drop Off Time</th>\n",
       "      <th>passenger_count</th>\n",
       "      <th>trip_distance</th>\n",
       "      <th>PULocationID</th>\n",
       "      <th>DOLocationID</th>\n",
       "      <th>fare_amount</th>\n",
       "      <th>Surge Fee</th>\n",
       "      <th>Vehicle</th>\n",
       "      <th>Payment_type</th>\n",
       "      <th>LocationID</th>\n",
       "      <th>Location</th>\n",
       "      <th>City</th>\n",
       "    </tr>\n",
       "  </thead>\n",
       "  <tbody>\n",
       "    <tr>\n",
       "      <th>0</th>\n",
       "      <td>1</td>\n",
       "      <td>2024-06-01 00:42:50</td>\n",
       "      <td>2024-06-01 01:04:33</td>\n",
       "      <td>1</td>\n",
       "      <td>5.60</td>\n",
       "      <td>79</td>\n",
       "      <td>226</td>\n",
       "      <td>19.5</td>\n",
       "      <td>2.0</td>\n",
       "      <td>UberX</td>\n",
       "      <td>Uber Pay</td>\n",
       "      <td>79</td>\n",
       "      <td>East Village</td>\n",
       "      <td>Brooklyn</td>\n",
       "    </tr>\n",
       "    <tr>\n",
       "      <th>1</th>\n",
       "      <td>2</td>\n",
       "      <td>2024-06-01 00:06:29</td>\n",
       "      <td>2024-06-01 00:13:22</td>\n",
       "      <td>1</td>\n",
       "      <td>1.72</td>\n",
       "      <td>142</td>\n",
       "      <td>186</td>\n",
       "      <td>8.0</td>\n",
       "      <td>0.0</td>\n",
       "      <td>Uber Black</td>\n",
       "      <td>Cash</td>\n",
       "      <td>142</td>\n",
       "      <td>Lincoln Square East</td>\n",
       "      <td>Manhattan</td>\n",
       "    </tr>\n",
       "    <tr>\n",
       "      <th>2</th>\n",
       "      <td>3</td>\n",
       "      <td>2024-06-01 00:08:05</td>\n",
       "      <td>2024-06-01 00:21:33</td>\n",
       "      <td>1</td>\n",
       "      <td>3.41</td>\n",
       "      <td>229</td>\n",
       "      <td>238</td>\n",
       "      <td>13.0</td>\n",
       "      <td>0.0</td>\n",
       "      <td>Uber Black</td>\n",
       "      <td>Cash</td>\n",
       "      <td>229</td>\n",
       "      <td>Sutton Place/Turtle Bay North</td>\n",
       "      <td>Manhattan</td>\n",
       "    </tr>\n",
       "    <tr>\n",
       "      <th>3</th>\n",
       "      <td>4</td>\n",
       "      <td>2024-06-01 00:28:20</td>\n",
       "      <td>2024-06-01 00:37:46</td>\n",
       "      <td>1</td>\n",
       "      <td>1.81</td>\n",
       "      <td>188</td>\n",
       "      <td>35</td>\n",
       "      <td>9.0</td>\n",
       "      <td>0.0</td>\n",
       "      <td>UberX</td>\n",
       "      <td>Cash</td>\n",
       "      <td>188</td>\n",
       "      <td>Prospect-Lefferts Gardens</td>\n",
       "      <td>Brooklyn</td>\n",
       "    </tr>\n",
       "    <tr>\n",
       "      <th>4</th>\n",
       "      <td>5</td>\n",
       "      <td>2024-06-01 00:38:05</td>\n",
       "      <td>2024-06-01 00:45:05</td>\n",
       "      <td>1</td>\n",
       "      <td>1.89</td>\n",
       "      <td>100</td>\n",
       "      <td>137</td>\n",
       "      <td>8.0</td>\n",
       "      <td>0.0</td>\n",
       "      <td>Uber Black</td>\n",
       "      <td>Cash</td>\n",
       "      <td>100</td>\n",
       "      <td>Garment District</td>\n",
       "      <td>Queens</td>\n",
       "    </tr>\n",
       "    <tr>\n",
       "      <th>...</th>\n",
       "      <td>...</td>\n",
       "      <td>...</td>\n",
       "      <td>...</td>\n",
       "      <td>...</td>\n",
       "      <td>...</td>\n",
       "      <td>...</td>\n",
       "      <td>...</td>\n",
       "      <td>...</td>\n",
       "      <td>...</td>\n",
       "      <td>...</td>\n",
       "      <td>...</td>\n",
       "      <td>...</td>\n",
       "      <td>...</td>\n",
       "      <td>...</td>\n",
       "    </tr>\n",
       "    <tr>\n",
       "      <th>103723</th>\n",
       "      <td>116918</td>\n",
       "      <td>2024-06-30 23:17:26</td>\n",
       "      <td>2024-06-30 23:35:00</td>\n",
       "      <td>1</td>\n",
       "      <td>9.40</td>\n",
       "      <td>138</td>\n",
       "      <td>243</td>\n",
       "      <td>27.0</td>\n",
       "      <td>0.0</td>\n",
       "      <td>Uber Black</td>\n",
       "      <td>Uber Pay</td>\n",
       "      <td>138</td>\n",
       "      <td>LaGuardia Airport</td>\n",
       "      <td>Manhattan</td>\n",
       "    </tr>\n",
       "    <tr>\n",
       "      <th>103724</th>\n",
       "      <td>116919</td>\n",
       "      <td>2024-06-30 23:08:12</td>\n",
       "      <td>2024-06-30 23:14:02</td>\n",
       "      <td>1</td>\n",
       "      <td>2.00</td>\n",
       "      <td>185</td>\n",
       "      <td>32</td>\n",
       "      <td>7.5</td>\n",
       "      <td>0.0</td>\n",
       "      <td>Uber Green</td>\n",
       "      <td>Cash</td>\n",
       "      <td>185</td>\n",
       "      <td>Pelham Parkway</td>\n",
       "      <td>Bronx</td>\n",
       "    </tr>\n",
       "    <tr>\n",
       "      <th>103725</th>\n",
       "      <td>116920</td>\n",
       "      <td>2024-06-30 23:38:39</td>\n",
       "      <td>2024-06-30 23:42:56</td>\n",
       "      <td>1</td>\n",
       "      <td>1.30</td>\n",
       "      <td>162</td>\n",
       "      <td>237</td>\n",
       "      <td>6.0</td>\n",
       "      <td>2.9</td>\n",
       "      <td>UberX</td>\n",
       "      <td>Uber Pay</td>\n",
       "      <td>162</td>\n",
       "      <td>Midtown East</td>\n",
       "      <td>Queens</td>\n",
       "    </tr>\n",
       "    <tr>\n",
       "      <th>103726</th>\n",
       "      <td>116923</td>\n",
       "      <td>2024-06-30 23:57:00</td>\n",
       "      <td>2024-07-01 00:05:46</td>\n",
       "      <td>1</td>\n",
       "      <td>2.50</td>\n",
       "      <td>142</td>\n",
       "      <td>233</td>\n",
       "      <td>10.0</td>\n",
       "      <td>0.0</td>\n",
       "      <td>Uber Green</td>\n",
       "      <td>Cash</td>\n",
       "      <td>142</td>\n",
       "      <td>Lincoln Square East</td>\n",
       "      <td>Manhattan</td>\n",
       "    </tr>\n",
       "    <tr>\n",
       "      <th>103727</th>\n",
       "      <td>116924</td>\n",
       "      <td>2024-06-30 23:08:13</td>\n",
       "      <td>2024-06-30 23:19:19</td>\n",
       "      <td>1</td>\n",
       "      <td>6.91</td>\n",
       "      <td>70</td>\n",
       "      <td>42</td>\n",
       "      <td>19.5</td>\n",
       "      <td>0.0</td>\n",
       "      <td>Uber Black</td>\n",
       "      <td>Uber Pay</td>\n",
       "      <td>70</td>\n",
       "      <td>East Elmhurst</td>\n",
       "      <td>Brooklyn</td>\n",
       "    </tr>\n",
       "  </tbody>\n",
       "</table>\n",
       "<p>103728 rows × 14 columns</p>\n",
       "</div>"
      ],
      "text/plain": [
       "        Trip ID         Pickup Time       Drop Off Time  passenger_count  \\\n",
       "0             1 2024-06-01 00:42:50 2024-06-01 01:04:33                1   \n",
       "1             2 2024-06-01 00:06:29 2024-06-01 00:13:22                1   \n",
       "2             3 2024-06-01 00:08:05 2024-06-01 00:21:33                1   \n",
       "3             4 2024-06-01 00:28:20 2024-06-01 00:37:46                1   \n",
       "4             5 2024-06-01 00:38:05 2024-06-01 00:45:05                1   \n",
       "...         ...                 ...                 ...              ...   \n",
       "103723   116918 2024-06-30 23:17:26 2024-06-30 23:35:00                1   \n",
       "103724   116919 2024-06-30 23:08:12 2024-06-30 23:14:02                1   \n",
       "103725   116920 2024-06-30 23:38:39 2024-06-30 23:42:56                1   \n",
       "103726   116923 2024-06-30 23:57:00 2024-07-01 00:05:46                1   \n",
       "103727   116924 2024-06-30 23:08:13 2024-06-30 23:19:19                1   \n",
       "\n",
       "        trip_distance  PULocationID  DOLocationID  fare_amount  Surge Fee  \\\n",
       "0                5.60            79           226         19.5        2.0   \n",
       "1                1.72           142           186          8.0        0.0   \n",
       "2                3.41           229           238         13.0        0.0   \n",
       "3                1.81           188            35          9.0        0.0   \n",
       "4                1.89           100           137          8.0        0.0   \n",
       "...               ...           ...           ...          ...        ...   \n",
       "103723           9.40           138           243         27.0        0.0   \n",
       "103724           2.00           185            32          7.5        0.0   \n",
       "103725           1.30           162           237          6.0        2.9   \n",
       "103726           2.50           142           233         10.0        0.0   \n",
       "103727           6.91            70            42         19.5        0.0   \n",
       "\n",
       "           Vehicle Payment_type  LocationID                       Location  \\\n",
       "0            UberX     Uber Pay          79                   East Village   \n",
       "1       Uber Black         Cash         142            Lincoln Square East   \n",
       "2       Uber Black         Cash         229  Sutton Place/Turtle Bay North   \n",
       "3            UberX         Cash         188      Prospect-Lefferts Gardens   \n",
       "4       Uber Black         Cash         100               Garment District   \n",
       "...            ...          ...         ...                            ...   \n",
       "103723  Uber Black     Uber Pay         138              LaGuardia Airport   \n",
       "103724  Uber Green         Cash         185                 Pelham Parkway   \n",
       "103725       UberX     Uber Pay         162                   Midtown East   \n",
       "103726  Uber Green         Cash         142            Lincoln Square East   \n",
       "103727  Uber Black     Uber Pay          70                  East Elmhurst   \n",
       "\n",
       "             City  \n",
       "0        Brooklyn  \n",
       "1       Manhattan  \n",
       "2       Manhattan  \n",
       "3        Brooklyn  \n",
       "4          Queens  \n",
       "...           ...  \n",
       "103723  Manhattan  \n",
       "103724      Bronx  \n",
       "103725     Queens  \n",
       "103726  Manhattan  \n",
       "103727   Brooklyn  \n",
       "\n",
       "[103728 rows x 14 columns]"
      ]
     },
     "execution_count": 15,
     "metadata": {},
     "output_type": "execute_result"
    }
   ],
   "source": [
    "data_df=pd.merge(df,location,how='left', left_on='PULocationID',right_on='LocationID')\n",
    "data_df"
   ]
  },
  {
   "cell_type": "code",
   "execution_count": 16,
   "id": "4178baf2",
   "metadata": {},
   "outputs": [
    {
     "data": {
      "text/plain": [
       "Trip ID              0\n",
       "Pickup Time          0\n",
       "Drop Off Time        0\n",
       "passenger_count      0\n",
       "trip_distance        0\n",
       "PULocationID         0\n",
       "DOLocationID         0\n",
       "fare_amount          0\n",
       "Surge Fee            0\n",
       "Vehicle              0\n",
       "Payment_type         0\n",
       "LocationID           0\n",
       "Location            26\n",
       "City               926\n",
       "dtype: int64"
      ]
     },
     "execution_count": 16,
     "metadata": {},
     "output_type": "execute_result"
    }
   ],
   "source": [
    "data_df.isnull().sum()"
   ]
  },
  {
   "cell_type": "code",
   "execution_count": 17,
   "id": "443bc206",
   "metadata": {},
   "outputs": [],
   "source": [
    "data_df.dropna(inplace=True)"
   ]
  },
  {
   "cell_type": "code",
   "execution_count": 18,
   "id": "bf3f3b9c",
   "metadata": {},
   "outputs": [
    {
     "data": {
      "text/plain": [
       "Trip ID            0\n",
       "Pickup Time        0\n",
       "Drop Off Time      0\n",
       "passenger_count    0\n",
       "trip_distance      0\n",
       "PULocationID       0\n",
       "DOLocationID       0\n",
       "fare_amount        0\n",
       "Surge Fee          0\n",
       "Vehicle            0\n",
       "Payment_type       0\n",
       "LocationID         0\n",
       "Location           0\n",
       "City               0\n",
       "dtype: int64"
      ]
     },
     "execution_count": 18,
     "metadata": {},
     "output_type": "execute_result"
    }
   ],
   "source": [
    "data_df.isnull().sum()"
   ]
  },
  {
   "cell_type": "code",
   "execution_count": 19,
   "id": "4b3d25c2",
   "metadata": {},
   "outputs": [
    {
     "data": {
      "text/plain": [
       "Index(['Trip ID', 'Pickup Time', 'Drop Off Time', 'passenger_count',\n",
       "       'trip_distance', 'PULocationID', 'DOLocationID', 'fare_amount',\n",
       "       'Surge Fee', 'Vehicle', 'Payment_type', 'LocationID', 'Location',\n",
       "       'City'],\n",
       "      dtype='object')"
      ]
     },
     "execution_count": 19,
     "metadata": {},
     "output_type": "execute_result"
    }
   ],
   "source": [
    "data_df.columns"
   ]
  },
  {
   "cell_type": "code",
   "execution_count": 21,
   "id": "2f2587bd-f9ba-401c-9fce-1cfb98d04982",
   "metadata": {},
   "outputs": [],
   "source": [
    "# to rename all columns\n",
    "\n",
    "data_df.rename(columns={\n",
    "    'trip_distance':'Trip Distance',\n",
    "    'passenger_count':'Passenger Count',\n",
    "    'fare_amount':'Fare Amount',\n",
    "    'Payment_type':'Payment Type',\n",
    "    \n",
    "},inplace=True)"
   ]
  },
  {
   "cell_type": "code",
   "execution_count": 22,
   "id": "5a0e16f4-c1a7-4b7e-b927-4b7bbf71ea96",
   "metadata": {},
   "outputs": [
    {
     "data": {
      "text/plain": [
       "Index(['Trip ID', 'Pickup Time', 'Drop Off Time', 'Passenger Count',\n",
       "       'Trip Distance', 'PULocationID', 'DOLocationID', 'Fare Amount',\n",
       "       'Surge Fee', 'Vehicle', 'Payment Type', 'LocationID', 'Location',\n",
       "       'City'],\n",
       "      dtype='object')"
      ]
     },
     "execution_count": 22,
     "metadata": {},
     "output_type": "execute_result"
    }
   ],
   "source": [
    "data_df.columns"
   ]
  },
  {
   "cell_type": "code",
   "execution_count": null,
   "id": "9fbd51d8-6632-4012-a9ac-18de5e657d2c",
   "metadata": {},
   "outputs": [],
   "source": []
  },
  {
   "cell_type": "code",
   "execution_count": 23,
   "id": "e7b47f8c",
   "metadata": {},
   "outputs": [
    {
     "name": "stdout",
     "output_type": "stream",
     "text": [
      "Total Booking: 102802\n"
     ]
    }
   ],
   "source": [
    "# Total Bookings\n",
    "\n",
    "total_booking=data_df['Trip ID'].nunique()\n",
    "print(f'Total Booking: {total_booking}')"
   ]
  },
  {
   "cell_type": "code",
   "execution_count": 24,
   "id": "2fb82489",
   "metadata": {},
   "outputs": [
    {
     "name": "stdout",
     "output_type": "stream",
     "text": [
      "Total Booking Values: $1332997.95\n"
     ]
    }
   ],
   "source": [
    "# Total Booking Value\n",
    "\n",
    "total_booking_value=data_df['Fare Amount'].sum()\n",
    "print(f'Total Booking Values: ${total_booking_value:.2f}')"
   ]
  },
  {
   "cell_type": "code",
   "execution_count": 25,
   "id": "8034a0d9",
   "metadata": {},
   "outputs": [
    {
     "name": "stdout",
     "output_type": "stream",
     "text": [
      "Average Booking Values: $12.97\n"
     ]
    }
   ],
   "source": [
    "# Average Booking Value\n",
    "\n",
    "avg_booking_value=data_df['Fare Amount'].mean()\n",
    "print(f'Average Booking Values: ${avg_booking_value:.2f}')"
   ]
  },
  {
   "cell_type": "code",
   "execution_count": 26,
   "id": "2cc4e59e",
   "metadata": {},
   "outputs": [
    {
     "name": "stdout",
     "output_type": "stream",
     "text": [
      "Total Trip Distance: 344554.92 KM\n"
     ]
    }
   ],
   "source": [
    "# Total Trip Distance\n",
    "\n",
    "total_trip_distance=data_df['Trip Distance'].sum()\n",
    "print(f'Total Trip Distance: {total_trip_distance:.2f} KM')"
   ]
  },
  {
   "cell_type": "code",
   "execution_count": 27,
   "id": "41b8675b",
   "metadata": {},
   "outputs": [
    {
     "name": "stdout",
     "output_type": "stream",
     "text": [
      "Average Trip Distance: 3.35 KM\n"
     ]
    }
   ],
   "source": [
    "# Average Trip Distance\n",
    "\n",
    "avg_trip_distance=data_df['Trip Distance'].mean()\n",
    "print(f'Average Trip Distance: {avg_trip_distance:.2f} KM')"
   ]
  },
  {
   "cell_type": "markdown",
   "id": "111e33ff-c347-4f7b-a83a-1b4dfba09f47",
   "metadata": {},
   "source": [
    "#### 1. Most Preferd vechile for PickUp Locations"
   ]
  },
  {
   "cell_type": "code",
   "execution_count": 28,
   "id": "bc2efa10-804d-4ffc-8243-2ceed17f3a9d",
   "metadata": {},
   "outputs": [
    {
     "data": {
      "text/html": [
       "<div>\n",
       "<style scoped>\n",
       "    .dataframe tbody tr th:only-of-type {\n",
       "        vertical-align: middle;\n",
       "    }\n",
       "\n",
       "    .dataframe tbody tr th {\n",
       "        vertical-align: top;\n",
       "    }\n",
       "\n",
       "    .dataframe thead th {\n",
       "        text-align: right;\n",
       "    }\n",
       "</style>\n",
       "<table border=\"1\" class=\"dataframe\">\n",
       "  <thead>\n",
       "    <tr style=\"text-align: right;\">\n",
       "      <th></th>\n",
       "      <th>TotalPickups</th>\n",
       "    </tr>\n",
       "    <tr>\n",
       "      <th>Vehicle</th>\n",
       "      <th></th>\n",
       "    </tr>\n",
       "  </thead>\n",
       "  <tbody>\n",
       "    <tr>\n",
       "      <th>UberX</th>\n",
       "      <td>38384</td>\n",
       "    </tr>\n",
       "    <tr>\n",
       "      <th>Uber Comfort</th>\n",
       "      <td>16931</td>\n",
       "    </tr>\n",
       "    <tr>\n",
       "      <th>Uber Black</th>\n",
       "      <td>16560</td>\n",
       "    </tr>\n",
       "    <tr>\n",
       "      <th>UberXL</th>\n",
       "      <td>16557</td>\n",
       "    </tr>\n",
       "    <tr>\n",
       "      <th>Uber Green</th>\n",
       "      <td>14370</td>\n",
       "    </tr>\n",
       "  </tbody>\n",
       "</table>\n",
       "</div>"
      ],
      "text/plain": [
       "              TotalPickups\n",
       "Vehicle                   \n",
       "UberX                38384\n",
       "Uber Comfort         16931\n",
       "Uber Black           16560\n",
       "UberXL               16557\n",
       "Uber Green           14370"
      ]
     },
     "execution_count": 28,
     "metadata": {},
     "output_type": "execute_result"
    }
   ],
   "source": [
    "\n",
    "Most_pre = data_df.groupby('Vehicle').agg(\n",
    "    TotalPickups=('PULocationID', 'count')\n",
    "    ).sort_values('TotalPickups', ascending=False).head(10)\n",
    "Most_pre"
   ]
  },
  {
   "cell_type": "code",
   "execution_count": 29,
   "id": "a02b28a7",
   "metadata": {},
   "outputs": [
    {
     "data": {
      "text/plain": [
       "<Figure size 1000x500 with 0 Axes>"
      ]
     },
     "metadata": {},
     "output_type": "display_data"
    },
    {
     "data": {
      "image/png": "[encoded data removed]",
      "text/plain": [
       "<Figure size 640x480 with 1 Axes>"
      ]
     },
     "metadata": {},
     "output_type": "display_data"
    }
   ],
   "source": [
    "# Most preferd Vechicles\n",
    "import matplotlib.pyplot as plt\n",
    "import seaborn as sns\n",
    "plt.figure(figsize=(10,5))\n",
    "Most_pre.plot(kind='bar')\n",
    "plt.xlabel('Vechicle Type')\n",
    "plt.ylabel('Bookings')\n",
    "plt.title('Most Prefered Vechicle for PickUp Locations')\n",
    "\n",
    "plt.show()"
   ]
  },
  {
   "cell_type": "markdown",
   "id": "763fc801-2c79-4aff-b445-2cf71e63d795",
   "metadata": {},
   "source": [
    "#### 2.Top 10 Frequent PickUp Point"
   ]
  },
  {
   "cell_type": "code",
   "execution_count": 30,
   "id": "b4e2780f",
   "metadata": {},
   "outputs": [
    {
     "data": {
      "text/html": [
       "<div>\n",
       "<style scoped>\n",
       "    .dataframe tbody tr th:only-of-type {\n",
       "        vertical-align: middle;\n",
       "    }\n",
       "\n",
       "    .dataframe tbody tr th {\n",
       "        vertical-align: top;\n",
       "    }\n",
       "\n",
       "    .dataframe thead th {\n",
       "        text-align: right;\n",
       "    }\n",
       "</style>\n",
       "<table border=\"1\" class=\"dataframe\">\n",
       "  <thead>\n",
       "    <tr style=\"text-align: right;\">\n",
       "      <th></th>\n",
       "      <th>TopPickUpLocation</th>\n",
       "    </tr>\n",
       "    <tr>\n",
       "      <th>Location</th>\n",
       "      <th></th>\n",
       "    </tr>\n",
       "  </thead>\n",
       "  <tbody>\n",
       "    <tr>\n",
       "      <th>Penn Station/Madison Sq West</th>\n",
       "      <td>4475</td>\n",
       "    </tr>\n",
       "    <tr>\n",
       "      <th>Upper East Side North</th>\n",
       "      <td>4459</td>\n",
       "    </tr>\n",
       "    <tr>\n",
       "      <th>Upper East Side South</th>\n",
       "      <td>4124</td>\n",
       "    </tr>\n",
       "    <tr>\n",
       "      <th>Lenox Hill East</th>\n",
       "      <td>3955</td>\n",
       "    </tr>\n",
       "    <tr>\n",
       "      <th>Upper West Side North</th>\n",
       "      <td>3752</td>\n",
       "    </tr>\n",
       "    <tr>\n",
       "      <th>Clinton East</th>\n",
       "      <td>3722</td>\n",
       "    </tr>\n",
       "    <tr>\n",
       "      <th>Lenox Hill West</th>\n",
       "      <td>3617</td>\n",
       "    </tr>\n",
       "    <tr>\n",
       "      <th>Lincoln Square East</th>\n",
       "      <td>3519</td>\n",
       "    </tr>\n",
       "    <tr>\n",
       "      <th>Yorkville West</th>\n",
       "      <td>3393</td>\n",
       "    </tr>\n",
       "    <tr>\n",
       "      <th>Murray Hill</th>\n",
       "      <td>3305</td>\n",
       "    </tr>\n",
       "  </tbody>\n",
       "</table>\n",
       "</div>"
      ],
      "text/plain": [
       "                              TopPickUpLocation\n",
       "Location                                       \n",
       "Penn Station/Madison Sq West               4475\n",
       "Upper East Side North                      4459\n",
       "Upper East Side South                      4124\n",
       "Lenox Hill East                            3955\n",
       "Upper West Side North                      3752\n",
       "Clinton East                               3722\n",
       "Lenox Hill West                            3617\n",
       "Lincoln Square East                        3519\n",
       "Yorkville West                             3393\n",
       "Murray Hill                                3305"
      ]
     },
     "execution_count": 30,
     "metadata": {},
     "output_type": "execute_result"
    }
   ],
   "source": [
    "Top_Pick_location=data_df.groupby('Location').agg(\n",
    "    TopPickUpLocation=('PULocationID','count')\n",
    ").sort_values('TopPickUpLocation',ascending=False).head(10)\n",
    "\n",
    "Top_Pick_location"
   ]
  },
  {
   "cell_type": "code",
   "execution_count": 31,
   "id": "097e4a26",
   "metadata": {},
   "outputs": [
    {
     "name": "stderr",
     "output_type": "stream",
     "text": [
      "C:\\Users\\Punniyamoorthy\\AppData\\Local\\Temp\\ipykernel_11216\\2424730188.py:2: FutureWarning: \n",
      "\n",
      "Passing `palette` without assigning `hue` is deprecated and will be removed in v0.14.0. Assign the `x` variable to `hue` and set `legend=False` for the same effect.\n",
      "\n",
      "  sns.barplot(data=Top_Pick_location, x='Location', y='TopPickUpLocation', palette='viridis')\n"
     ]
    },
    {
     "data": {
      "image/png": "[encoded data removed]",
      "text/plain": [
       "<Figure size 1500x1000 with 1 Axes>"
      ]
     },
     "metadata": {},
     "output_type": "display_data"
    }
   ],
   "source": [
    "\n",
    "plt.figure(figsize=(15,10))\n",
    "sns.barplot(data=Top_Pick_location, x='Location', y='TopPickUpLocation', palette='viridis')\n",
    "plt.title('Top 10 Frequent Pickup Point')\n",
    "plt.xlabel('Location')\n",
    "plt.ylabel('Total Bookings')\n",
    "plt.xticks(rotation=45)\n",
    "plt.tight_layout()\n",
    "plt.show()"
   ]
  },
  {
   "cell_type": "markdown",
   "id": "48818d0e-4205-4359-a3e2-1d58da52fde6",
   "metadata": {},
   "source": [
    "#### 3.Top 5 Frequent DropOff Point"
   ]
  },
  {
   "cell_type": "code",
   "execution_count": 32,
   "id": "8e332d8e",
   "metadata": {},
   "outputs": [
    {
     "data": {
      "text/html": [
       "<div>\n",
       "<style scoped>\n",
       "    .dataframe tbody tr th:only-of-type {\n",
       "        vertical-align: middle;\n",
       "    }\n",
       "\n",
       "    .dataframe tbody tr th {\n",
       "        vertical-align: top;\n",
       "    }\n",
       "\n",
       "    .dataframe thead th {\n",
       "        text-align: right;\n",
       "    }\n",
       "</style>\n",
       "<table border=\"1\" class=\"dataframe\">\n",
       "  <thead>\n",
       "    <tr style=\"text-align: right;\">\n",
       "      <th></th>\n",
       "      <th>TopDrop</th>\n",
       "    </tr>\n",
       "    <tr>\n",
       "      <th>Location</th>\n",
       "      <th></th>\n",
       "    </tr>\n",
       "  </thead>\n",
       "  <tbody>\n",
       "    <tr>\n",
       "      <th>Penn Station/Madison Sq West</th>\n",
       "      <td>4475</td>\n",
       "    </tr>\n",
       "    <tr>\n",
       "      <th>Upper East Side North</th>\n",
       "      <td>4459</td>\n",
       "    </tr>\n",
       "    <tr>\n",
       "      <th>Upper East Side South</th>\n",
       "      <td>4124</td>\n",
       "    </tr>\n",
       "    <tr>\n",
       "      <th>Lenox Hill East</th>\n",
       "      <td>3955</td>\n",
       "    </tr>\n",
       "    <tr>\n",
       "      <th>Upper West Side North</th>\n",
       "      <td>3752</td>\n",
       "    </tr>\n",
       "  </tbody>\n",
       "</table>\n",
       "</div>"
      ],
      "text/plain": [
       "                              TopDrop\n",
       "Location                             \n",
       "Penn Station/Madison Sq West     4475\n",
       "Upper East Side North            4459\n",
       "Upper East Side South            4124\n",
       "Lenox Hill East                  3955\n",
       "Upper West Side North            3752"
      ]
     },
     "execution_count": 32,
     "metadata": {},
     "output_type": "execute_result"
    }
   ],
   "source": [
    "Top_DropOffLocations=data_df.groupby('Location').agg(\n",
    "    TopDrop=('DOLocationID','count')\n",
    ").sort_values('TopDrop',ascending=False).head(5)\n",
    "Top_DropOffLocations"
   ]
  },
  {
   "cell_type": "code",
   "execution_count": 33,
   "id": "f52458ee",
   "metadata": {},
   "outputs": [
    {
     "name": "stderr",
     "output_type": "stream",
     "text": [
      "C:\\Users\\Punniyamoorthy\\AppData\\Local\\Temp\\ipykernel_11216\\2805170099.py:2: FutureWarning: \n",
      "\n",
      "Passing `palette` without assigning `hue` is deprecated and will be removed in v0.14.0. Assign the `x` variable to `hue` and set `legend=False` for the same effect.\n",
      "\n",
      "  sns.barplot(data=Top_DropOffLocations, x='Location', y='TopDrop', palette='viridis')\n"
     ]
    },
    {
     "data": {
      "image/png": "[encoded data removed]",
      "text/plain": [
       "<Figure size 1500x1000 with 1 Axes>"
      ]
     },
     "metadata": {},
     "output_type": "display_data"
    }
   ],
   "source": [
    "\n",
    "plt.figure(figsize=(15,10))\n",
    "sns.barplot(data=Top_DropOffLocations, x='Location', y='TopDrop', palette='viridis')\n",
    "plt.title('Top 5 Frequent DropOff Point')\n",
    "plt.xlabel('Location')\n",
    "plt.ylabel('Total Bookings')\n",
    "plt.xticks(rotation=45)\n",
    "plt.tight_layout()\n",
    "plt.show()"
   ]
  },
  {
   "cell_type": "code",
   "execution_count": 34,
   "id": "efe3700d",
   "metadata": {},
   "outputs": [
    {
     "data": {
      "text/html": [
       "<div>\n",
       "<style scoped>\n",
       "    .dataframe tbody tr th:only-of-type {\n",
       "        vertical-align: middle;\n",
       "    }\n",
       "\n",
       "    .dataframe tbody tr th {\n",
       "        vertical-align: top;\n",
       "    }\n",
       "\n",
       "    .dataframe thead th {\n",
       "        text-align: right;\n",
       "    }\n",
       "</style>\n",
       "<table border=\"1\" class=\"dataframe\">\n",
       "  <thead>\n",
       "    <tr style=\"text-align: right;\">\n",
       "      <th></th>\n",
       "      <th>Longest_Trip</th>\n",
       "    </tr>\n",
       "    <tr>\n",
       "      <th>Trip ID</th>\n",
       "      <th></th>\n",
       "    </tr>\n",
       "  </thead>\n",
       "  <tbody>\n",
       "    <tr>\n",
       "      <th>103565</th>\n",
       "      <td>144.10</td>\n",
       "    </tr>\n",
       "    <tr>\n",
       "      <th>14781</th>\n",
       "      <td>125.50</td>\n",
       "    </tr>\n",
       "    <tr>\n",
       "      <th>32353</th>\n",
       "      <td>62.40</td>\n",
       "    </tr>\n",
       "    <tr>\n",
       "      <th>88894</th>\n",
       "      <td>61.37</td>\n",
       "    </tr>\n",
       "    <tr>\n",
       "      <th>43342</th>\n",
       "      <td>51.20</td>\n",
       "    </tr>\n",
       "    <tr>\n",
       "      <th>...</th>\n",
       "      <td>...</td>\n",
       "    </tr>\n",
       "    <tr>\n",
       "      <th>80517</th>\n",
       "      <td>1.01</td>\n",
       "    </tr>\n",
       "    <tr>\n",
       "      <th>106849</th>\n",
       "      <td>1.01</td>\n",
       "    </tr>\n",
       "    <tr>\n",
       "      <th>56268</th>\n",
       "      <td>1.01</td>\n",
       "    </tr>\n",
       "    <tr>\n",
       "      <th>73343</th>\n",
       "      <td>1.01</td>\n",
       "    </tr>\n",
       "    <tr>\n",
       "      <th>67620</th>\n",
       "      <td>1.01</td>\n",
       "    </tr>\n",
       "  </tbody>\n",
       "</table>\n",
       "<p>102802 rows × 1 columns</p>\n",
       "</div>"
      ],
      "text/plain": [
       "         Longest_Trip\n",
       "Trip ID              \n",
       "103565         144.10\n",
       "14781          125.50\n",
       "32353           62.40\n",
       "88894           61.37\n",
       "43342           51.20\n",
       "...               ...\n",
       "80517            1.01\n",
       "106849           1.01\n",
       "56268            1.01\n",
       "73343            1.01\n",
       "67620            1.01\n",
       "\n",
       "[102802 rows x 1 columns]"
      ]
     },
     "execution_count": 34,
     "metadata": {},
     "output_type": "execute_result"
    }
   ],
   "source": [
    "data_df.groupby('Trip ID').agg(\n",
    "    Longest_Trip=('Trip Distance','sum')\n",
    "\n",
    ").sort_values('Longest_Trip',ascending=False)"
   ]
  },
  {
   "cell_type": "code",
   "execution_count": 35,
   "id": "55730e6d",
   "metadata": {},
   "outputs": [
    {
     "data": {
      "text/plain": [
       "Index(['Trip ID', 'Pickup Time', 'Drop Off Time', 'Passenger Count',\n",
       "       'Trip Distance', 'PULocationID', 'DOLocationID', 'Fare Amount',\n",
       "       'Surge Fee', 'Vehicle', 'Payment Type', 'LocationID', 'Location',\n",
       "       'City'],\n",
       "      dtype='object')"
      ]
     },
     "execution_count": 35,
     "metadata": {},
     "output_type": "execute_result"
    }
   ],
   "source": [
    "data_df.columns"
   ]
  },
  {
   "cell_type": "markdown",
   "id": "86f56b7e",
   "metadata": {},
   "source": [
    "#### 4. Total Transacions by Payment Type"
   ]
  },
  {
   "cell_type": "code",
   "execution_count": 36,
   "id": "bf6afa24",
   "metadata": {},
   "outputs": [
    {
     "data": {
      "text/html": [
       "<div>\n",
       "<style scoped>\n",
       "    .dataframe tbody tr th:only-of-type {\n",
       "        vertical-align: middle;\n",
       "    }\n",
       "\n",
       "    .dataframe tbody tr th {\n",
       "        vertical-align: top;\n",
       "    }\n",
       "\n",
       "    .dataframe thead th {\n",
       "        text-align: right;\n",
       "    }\n",
       "</style>\n",
       "<table border=\"1\" class=\"dataframe\">\n",
       "  <thead>\n",
       "    <tr style=\"text-align: right;\">\n",
       "      <th></th>\n",
       "      <th>MostVechicle</th>\n",
       "    </tr>\n",
       "    <tr>\n",
       "      <th>Payment Type</th>\n",
       "      <th></th>\n",
       "    </tr>\n",
       "  </thead>\n",
       "  <tbody>\n",
       "    <tr>\n",
       "      <th>Uber Pay</th>\n",
       "      <td>68934</td>\n",
       "    </tr>\n",
       "    <tr>\n",
       "      <th>Cash</th>\n",
       "      <td>33127</td>\n",
       "    </tr>\n",
       "    <tr>\n",
       "      <th>Amazon Pay</th>\n",
       "      <td>563</td>\n",
       "    </tr>\n",
       "    <tr>\n",
       "      <th>Google Pay</th>\n",
       "      <td>178</td>\n",
       "    </tr>\n",
       "  </tbody>\n",
       "</table>\n",
       "</div>"
      ],
      "text/plain": [
       "              MostVechicle\n",
       "Payment Type              \n",
       "Uber Pay             68934\n",
       "Cash                 33127\n",
       "Amazon Pay             563\n",
       "Google Pay             178"
      ]
     },
     "execution_count": 36,
     "metadata": {},
     "output_type": "execute_result"
    }
   ],
   "source": [
    "Most_vechicle=data_df.groupby('Payment Type').agg(\n",
    "    MostVechicle=('Trip ID','count')\n",
    ").sort_values('MostVechicle',ascending=False)\n",
    "Most_vechicle"
   ]
  },
  {
   "cell_type": "code",
   "execution_count": 37,
   "id": "2743c0fa",
   "metadata": {},
   "outputs": [
    {
     "name": "stderr",
     "output_type": "stream",
     "text": [
      "C:\\Users\\Punniyamoorthy\\AppData\\Local\\Temp\\ipykernel_11216\\3158510381.py:2: FutureWarning: \n",
      "\n",
      "Passing `palette` without assigning `hue` is deprecated and will be removed in v0.14.0. Assign the `x` variable to `hue` and set `legend=False` for the same effect.\n",
      "\n",
      "  sns.barplot(data=Most_vechicle, x='Payment Type', y='MostVechicle', palette='viridis')\n"
     ]
    },
    {
     "data": {
      "image/png": "[encoded data removed]",
      "text/plain": [
       "<Figure size 1000x800 with 1 Axes>"
      ]
     },
     "metadata": {},
     "output_type": "display_data"
    }
   ],
   "source": [
    "\n",
    "plt.figure(figsize=(10,8))\n",
    "sns.barplot(data=Most_vechicle, x='Payment Type', y='MostVechicle', palette='viridis')\n",
    "plt.title('Made Transaction by Payment Type')\n",
    "plt.xlabel('Payment Type')\n",
    "plt.ylabel('No of Payments')\n",
    "plt.xticks(rotation=45)\n",
    "plt.tight_layout()\n",
    "plt.show()"
   ]
  },
  {
   "cell_type": "markdown",
   "id": "6a1d4498",
   "metadata": {},
   "source": [
    "#### 5. Transactions by Date"
   ]
  },
  {
   "cell_type": "code",
   "execution_count": 38,
   "id": "670b5d5e",
   "metadata": {},
   "outputs": [
    {
     "data": {
      "text/html": [
       "<div>\n",
       "<style scoped>\n",
       "    .dataframe tbody tr th:only-of-type {\n",
       "        vertical-align: middle;\n",
       "    }\n",
       "\n",
       "    .dataframe tbody tr th {\n",
       "        vertical-align: top;\n",
       "    }\n",
       "\n",
       "    .dataframe thead th {\n",
       "        text-align: right;\n",
       "    }\n",
       "</style>\n",
       "<table border=\"1\" class=\"dataframe\">\n",
       "  <thead>\n",
       "    <tr style=\"text-align: right;\">\n",
       "      <th></th>\n",
       "      <th>Transaction_by_Date</th>\n",
       "    </tr>\n",
       "    <tr>\n",
       "      <th>Pickup Time</th>\n",
       "      <th></th>\n",
       "    </tr>\n",
       "  </thead>\n",
       "  <tbody>\n",
       "    <tr>\n",
       "      <th>2024-06-01</th>\n",
       "      <td>37708.00</td>\n",
       "    </tr>\n",
       "    <tr>\n",
       "      <th>2024-06-02</th>\n",
       "      <td>34440.50</td>\n",
       "    </tr>\n",
       "    <tr>\n",
       "      <th>2024-06-03</th>\n",
       "      <td>31424.50</td>\n",
       "    </tr>\n",
       "    <tr>\n",
       "      <th>2024-06-04</th>\n",
       "      <td>35894.46</td>\n",
       "    </tr>\n",
       "    <tr>\n",
       "      <th>2024-06-05</th>\n",
       "      <td>38977.50</td>\n",
       "    </tr>\n",
       "  </tbody>\n",
       "</table>\n",
       "</div>"
      ],
      "text/plain": [
       "             Transaction_by_Date\n",
       "Pickup Time                     \n",
       "2024-06-01              37708.00\n",
       "2024-06-02              34440.50\n",
       "2024-06-03              31424.50\n",
       "2024-06-04              35894.46\n",
       "2024-06-05              38977.50"
      ]
     },
     "execution_count": 38,
     "metadata": {},
     "output_type": "execute_result"
    }
   ],
   "source": [
    "Transaction_Date=data_df.groupby(data_df['Pickup Time'].dt.date).agg(\n",
    "    Transaction_by_Date=('Fare Amount','sum')\n",
    ")\n",
    "Transaction_Date.head()"
   ]
  },
  {
   "cell_type": "code",
   "execution_count": 39,
   "id": "56b90596",
   "metadata": {},
   "outputs": [
    {
     "data": {
      "text/plain": [
       "<Figure size 9000x600 with 0 Axes>"
      ]
     },
     "metadata": {},
     "output_type": "display_data"
    },
    {
     "data": {
      "image/png": "[encoded data removed]",
      "text/plain": [
       "<Figure size 640x480 with 1 Axes>"
      ]
     },
     "metadata": {},
     "output_type": "display_data"
    }
   ],
   "source": [
    "plt.figure(figsize=(90,6))\n",
    "\n",
    "Transaction_Date.plot(kind='line')\n",
    "plt.title('Transaction by Date')\n",
    "plt.xlabel('Date')\n",
    "plt.ylabel('Transaction')\n",
    "plt.xticks(rotation=85)\n",
    "plt.tight_layout()\n",
    "plt.show()"
   ]
  },
  {
   "cell_type": "markdown",
   "id": "a08b8eef",
   "metadata": {},
   "source": [
    "#### 6. Total Booking by Date"
   ]
  },
  {
   "cell_type": "code",
   "execution_count": 40,
   "id": "70109a41",
   "metadata": {},
   "outputs": [
    {
     "data": {
      "text/html": [
       "<div>\n",
       "<style scoped>\n",
       "    .dataframe tbody tr th:only-of-type {\n",
       "        vertical-align: middle;\n",
       "    }\n",
       "\n",
       "    .dataframe tbody tr th {\n",
       "        vertical-align: top;\n",
       "    }\n",
       "\n",
       "    .dataframe thead th {\n",
       "        text-align: right;\n",
       "    }\n",
       "</style>\n",
       "<table border=\"1\" class=\"dataframe\">\n",
       "  <thead>\n",
       "    <tr style=\"text-align: right;\">\n",
       "      <th></th>\n",
       "      <th>Booking_by_Date</th>\n",
       "    </tr>\n",
       "    <tr>\n",
       "      <th>Pickup Time</th>\n",
       "      <th></th>\n",
       "    </tr>\n",
       "  </thead>\n",
       "  <tbody>\n",
       "    <tr>\n",
       "      <th>2024-06-01</th>\n",
       "      <td>4413336</td>\n",
       "    </tr>\n",
       "    <tr>\n",
       "      <th>2024-06-02</th>\n",
       "      <td>12186501</td>\n",
       "    </tr>\n",
       "    <tr>\n",
       "      <th>2024-06-03</th>\n",
       "      <td>19312633</td>\n",
       "    </tr>\n",
       "    <tr>\n",
       "      <th>2024-06-04</th>\n",
       "      <td>30285288</td>\n",
       "    </tr>\n",
       "    <tr>\n",
       "      <th>2024-06-05</th>\n",
       "      <td>40387874</td>\n",
       "    </tr>\n",
       "  </tbody>\n",
       "</table>\n",
       "</div>"
      ],
      "text/plain": [
       "             Booking_by_Date\n",
       "Pickup Time                 \n",
       "2024-06-01           4413336\n",
       "2024-06-02          12186501\n",
       "2024-06-03          19312633\n",
       "2024-06-04          30285288\n",
       "2024-06-05          40387874"
      ]
     },
     "execution_count": 40,
     "metadata": {},
     "output_type": "execute_result"
    }
   ],
   "source": [
    "Booking_Date=data_df.groupby(data_df['Pickup Time'].dt.date).agg(\n",
    "    Booking_by_Date=('Trip ID','sum')\n",
    ")\n",
    "Booking_Date.head()"
   ]
  },
  {
   "cell_type": "code",
   "execution_count": 41,
   "id": "ed722853",
   "metadata": {},
   "outputs": [
    {
     "data": {
      "text/plain": [
       "<Figure size 1000x600 with 0 Axes>"
      ]
     },
     "metadata": {},
     "output_type": "display_data"
    },
    {
     "data": {
      "image/png": "[encoded data removed]",
      "text/plain": [
       "<Figure size 640x480 with 1 Axes>"
      ]
     },
     "metadata": {},
     "output_type": "display_data"
    }
   ],
   "source": [
    "plt.figure(figsize=(10,6))\n",
    "Booking_Date.plot(kind='line')\n",
    "\n",
    "plt.title('Total Booking by Date')\n",
    "plt.xlabel('Date')\n",
    "plt.ylabel('Booking')\n",
    "plt.xticks(rotation=85)\n",
    "plt.tight_layout()\n",
    "plt.show()"
   ]
  },
  {
   "cell_type": "markdown",
   "id": "634cab15",
   "metadata": {},
   "source": [
    "#### 7. Relationship between Fare Amount & Surge Fee "
   ]
  },
  {
   "cell_type": "code",
   "execution_count": 42,
   "id": "dbc58e9c",
   "metadata": {},
   "outputs": [
    {
     "data": {
      "image/png": "[encoded data removed]",
      "text/plain": [
       "<Figure size 1000x600 with 1 Axes>"
      ]
     },
     "metadata": {},
     "output_type": "display_data"
    }
   ],
   "source": [
    "plt.figure(figsize=(10,6))\n",
    "plt.scatter(x=data_df['Fare Amount'],y=data_df['Surge Fee'])\n",
    "plt.xlabel('Fare Amount')\n",
    "plt.ylabel('Surge Fee')\n",
    "plt.title('Relationship between Fare Amount & Surge Fee')\n",
    "plt.show()"
   ]
  },
  {
   "cell_type": "code",
   "execution_count": 43,
   "id": "5a96d752",
   "metadata": {},
   "outputs": [
    {
     "data": {
      "image/png": "[encoded data removed]",
      "text/plain": [
       "<Figure size 1000x600 with 1 Axes>"
      ]
     },
     "metadata": {},
     "output_type": "display_data"
    }
   ],
   "source": [
    "plt.figure(figsize=(10,6))\n",
    "plt.scatter(x=data_df['Pickup Time'],y=data_df['Drop Off Time'])\n",
    "plt.xlabel('Fare Amount')\n",
    "plt.ylabel('Surge Fee')\n",
    "plt.title('Relationship between Fare Amount & Surge Fee')\n",
    "plt.show()"
   ]
  },
  {
   "cell_type": "code",
   "execution_count": null,
   "id": "7cae1536",
   "metadata": {},
   "outputs": [],
   "source": []
  },
  {
   "cell_type": "markdown",
   "id": "a845e993",
   "metadata": {},
   "source": [
    "#### 9. Total Booking by Cities"
   ]
  },
  {
   "cell_type": "code",
   "execution_count": 44,
   "id": "fd988a17",
   "metadata": {},
   "outputs": [
    {
     "data": {
      "text/html": [
       "<div>\n",
       "<style scoped>\n",
       "    .dataframe tbody tr th:only-of-type {\n",
       "        vertical-align: middle;\n",
       "    }\n",
       "\n",
       "    .dataframe tbody tr th {\n",
       "        vertical-align: top;\n",
       "    }\n",
       "\n",
       "    .dataframe thead th {\n",
       "        text-align: right;\n",
       "    }\n",
       "</style>\n",
       "<table border=\"1\" class=\"dataframe\">\n",
       "  <thead>\n",
       "    <tr style=\"text-align: right;\">\n",
       "      <th></th>\n",
       "      <th>Booking_City</th>\n",
       "    </tr>\n",
       "    <tr>\n",
       "      <th>City</th>\n",
       "      <th></th>\n",
       "    </tr>\n",
       "  </thead>\n",
       "  <tbody>\n",
       "    <tr>\n",
       "      <th>Manhattan</th>\n",
       "      <td>64038</td>\n",
       "    </tr>\n",
       "    <tr>\n",
       "      <th>Queens</th>\n",
       "      <td>16888</td>\n",
       "    </tr>\n",
       "    <tr>\n",
       "      <th>Brooklyn</th>\n",
       "      <td>16351</td>\n",
       "    </tr>\n",
       "    <tr>\n",
       "      <th>The Bronx</th>\n",
       "      <td>4693</td>\n",
       "    </tr>\n",
       "    <tr>\n",
       "      <th>Staten Island</th>\n",
       "      <td>652</td>\n",
       "    </tr>\n",
       "    <tr>\n",
       "      <th>Bronx</th>\n",
       "      <td>179</td>\n",
       "    </tr>\n",
       "    <tr>\n",
       "      <th>Newark, New Jersey</th>\n",
       "      <td>1</td>\n",
       "    </tr>\n",
       "  </tbody>\n",
       "</table>\n",
       "</div>"
      ],
      "text/plain": [
       "                    Booking_City\n",
       "City                            \n",
       "Manhattan                  64038\n",
       "Queens                     16888\n",
       "Brooklyn                   16351\n",
       "The Bronx                   4693\n",
       "Staten Island                652\n",
       "Bronx                        179\n",
       "Newark, New Jersey             1"
      ]
     },
     "execution_count": 44,
     "metadata": {},
     "output_type": "execute_result"
    }
   ],
   "source": [
    "Booking_city=data_df.groupby('City').agg(\n",
    "    Booking_City=('Trip ID','count')\n",
    ").sort_values('Booking_City',ascending=False)\n",
    "Booking_city"
   ]
  },
  {
   "cell_type": "code",
   "execution_count": 45,
   "id": "4ee96b1e",
   "metadata": {},
   "outputs": [
    {
     "name": "stderr",
     "output_type": "stream",
     "text": [
      "C:\\Users\\Punniyamoorthy\\AppData\\Local\\Temp\\ipykernel_11216\\3118191095.py:2: FutureWarning: \n",
      "\n",
      "Passing `palette` without assigning `hue` is deprecated and will be removed in v0.14.0. Assign the `x` variable to `hue` and set `legend=False` for the same effect.\n",
      "\n",
      "  sns.barplot(data=Booking_city, x='City', y='Booking_City', palette='viridis')\n"
     ]
    },
    {
     "data": {
      "image/png": "[encoded data removed]",
      "text/plain": [
       "<Figure size 1000x800 with 1 Axes>"
      ]
     },
     "metadata": {},
     "output_type": "display_data"
    }
   ],
   "source": [
    "plt.figure(figsize=(10,8))\n",
    "sns.barplot(data=Booking_city, x='City', y='Booking_City', palette='viridis')\n",
    "plt.title('Booking by Cities')\n",
    "plt.xlabel('City')\n",
    "plt.ylabel('Bookings')\n",
    "plt.xticks(rotation=45)\n",
    "plt.tight_layout()\n",
    "plt.show()"
   ]
  },
  {
   "cell_type": "code",
   "execution_count": 62,
   "id": "a8a7199b",
   "metadata": {},
   "outputs": [
    {
     "data": {
      "image/png": "[encoded data removed]",
      "text/plain": [
       "<Figure size 1000x800 with 1 Axes>"
      ]
     },
     "metadata": {},
     "output_type": "display_data"
    }
   ],
   "source": [
    "plt.figure(figsize=(10,8))\n",
    "Booking_city.plot(kind='pie',subplots=True,labels=None,startangle=90)\n",
    "plt.title('Booking by Cities')\n",
    "plt.xlabel('City')\n",
    "plt.ylabel('Booking')\n",
    "\n",
    "plt.legend(\n",
    "    labels=Booking_city.index,\n",
    "    title=\"Cities\",\n",
    "    loc=\"center left\",\n",
    "    bbox_to_anchor=(1, 0.5),\n",
    "    fontsize=12,\n",
    "    title_fontsize=13\n",
    ")\n",
    "\n",
    "plt.xticks(rotation=45)\n",
    "plt.tight_layout()\n",
    "plt.show()"
   ]
  },
  {
   "cell_type": "code",
   "execution_count": null,
   "id": "f7ccf4fe",
   "metadata": {},
   "outputs": [],
   "source": [
    "\n"
   ]
  }
 ],
 "metadata": {
  "kernelspec": {
   "display_name": "Python 3",
   "language": "python",
   "name": "python3"
  },
  "language_info": {
   "codemirror_mode": {
    "name": "ipython",
    "version": 3
   },
   "file_extension": ".py",
   "mimetype": "text/x-python",
   "name": "python",
   "nbconvert_exporter": "python",
   "pygments_lexer": "ipython3",
   "version": "3.12.10"
  }
 },
 "nbformat": 4,
 "nbformat_minor": 5
}
